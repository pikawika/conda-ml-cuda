{
 "cells": [
  {
   "cell_type": "markdown",
   "id": "432e65c8",
   "metadata": {},
   "source": [
    "# Sample ML environment notebook\n",
    "\n",
    "Notebook to check if environment is installed properly.\n",
    "\n",
    "## Conda environment and base Python"
   ]
  },
  {
   "cell_type": "code",
   "execution_count": 1,
   "id": "85acb223",
   "metadata": {
    "scrolled": true
   },
   "outputs": [
    {
     "name": "stdout",
     "output_type": "stream",
     "text": [
      "Active environment (ml recommended): ml\n",
      "Correct environment: True\n",
      "\n",
      "Python version (3.9.13 recommended): 3.9.13\n",
      "Correct Python version: True\n"
     ]
    }
   ],
   "source": [
    "####################################################\n",
    "# CHECKING FOR RIGHT ANACONDA ENVIRONMENT\n",
    "####################################################\n",
    "\n",
    "import os\n",
    "from platform import python_version\n",
    "from pathlib import Path\n",
    "from copy import copy\n",
    "\n",
    "print(f\"Active environment (ml recommended): {os.environ['CONDA_DEFAULT_ENV']}\");print(f\"Correct environment: {os.environ['CONDA_DEFAULT_ENV'] == 'ml'}\")\n",
    "\n",
    "print(f\"\\nPython version (3.9.13 recommended): {python_version()}\");print(f\"Correct Python version: {python_version() == '3.9.13'}\")"
   ]
  },
  {
   "cell_type": "markdown",
   "id": "9bd3373e",
   "metadata": {},
   "source": [
    "## Correct modules"
   ]
  },
  {
   "cell_type": "code",
   "execution_count": 2,
   "id": "0a584196",
   "metadata": {
    "scrolled": true
   },
   "outputs": [
    {
     "name": "stdout",
     "output_type": "stream",
     "text": [
      "Numpy version (1.23.3 recommended): 1.23.3\n",
      "Correct Numpy version: True\n",
      "\n",
      "Pandas version (1.4.4 recommended): 1.4.4\n",
      "Correct Pandas version: True\n",
      "\n",
      "Scikit-learn version (1.1.2 recommended): 1.1.2\n",
      "Correct Numpy version: True\n",
      "\n",
      "TensorFlow version (2.10.0 recommended): 2.10.0\n",
      "Correct TensorFlow version: True\n",
      "\n",
      "Pickle version (4.0 recommended): 4.0\n",
      "Correct Pickle version: True\n"
     ]
    }
   ],
   "source": [
    "####################################################\n",
    "# CHECKING MODULES\n",
    "####################################################\n",
    "\n",
    "# Data manipulation modules\n",
    "import numpy as np; print(f\"Numpy version (1.23.3 recommended): {np.__version__}\")\n",
    "print(f\"Correct Numpy version: {'1.23.3' == np.__version__}\")\n",
    "\n",
    "import pandas as pd; print(f\"\\nPandas version (1.4.4 recommended): {pd.__version__}\")\n",
    "print(f\"Correct Pandas version: {'1.4.4' == pd.__version__}\")\n",
    "\n",
    "# Traditional ML modules\n",
    "import sklearn;  print(f\"\\nScikit-learn version (1.1.2 recommended): {sklearn.__version__}\")\n",
    "print(f\"Correct Numpy version: {'1.1.2' == sklearn.__version__}\")\n",
    "\n",
    "# Deep Learning libraries\n",
    "import tensorflow as tf;  print(f\"\\nTensorFlow version (2.10.0 recommended): {tf.__version__}\")\n",
    "print(f\"Correct TensorFlow version: {'2.10.0' == tf.__version__}\")\n",
    "\n",
    "# Additional libraries\n",
    "import pickle;  print(f\"\\nPickle version (4.0 recommended): {pickle.format_version}\")\n",
    "print(f\"Correct Pickle version: {'4.0' == pickle.format_version}\")"
   ]
  },
  {
   "cell_type": "markdown",
   "id": "908bcf3d",
   "metadata": {},
   "source": [
    "## TensorFlow tools util file"
   ]
  },
  {
   "cell_type": "code",
   "execution_count": 3,
   "id": "8e8ffa0d",
   "metadata": {},
   "outputs": [],
   "source": [
    "####################################################\n",
    "# LOAD TF TOOLS\n",
    "####################################################\n",
    "\n",
    "# Load util function file\n",
    "import sys\n",
    "import importlib\n",
    "sys.path.append('../utils')\n",
    "import TF_tools\n",
    "importlib.reload(TF_tools);"
   ]
  },
  {
   "cell_type": "code",
   "execution_count": 4,
   "id": "67f23300",
   "metadata": {},
   "outputs": [
    {
     "name": "stdout",
     "output_type": "stream",
     "text": [
      "There are 1 CPUs available under the names:\n",
      "[PhysicalDevice(name='/physical_device:CPU:0', device_type='CPU')]\n",
      "\n",
      "\n",
      "There are 1 GPUs available under the names:\n",
      "[PhysicalDevice(name='/physical_device:GPU:0', device_type='GPU')]\n"
     ]
    }
   ],
   "source": [
    "####################################################\n",
    "# CHECK TF INSTALL\n",
    "####################################################\n",
    "\n",
    "TF_tools.check_tf_cpu_gpu_presence()"
   ]
  },
  {
   "cell_type": "code",
   "execution_count": null,
   "id": "4384cfed",
   "metadata": {},
   "outputs": [],
   "source": []
  }
 ],
 "metadata": {
  "kernelspec": {
   "display_name": "Python 3 (ipykernel)",
   "language": "python",
   "name": "python3"
  },
  "language_info": {
   "codemirror_mode": {
    "name": "ipython",
    "version": 3
   },
   "file_extension": ".py",
   "mimetype": "text/x-python",
   "name": "python",
   "nbconvert_exporter": "python",
   "pygments_lexer": "ipython3",
   "version": "3.9.13"
  }
 },
 "nbformat": 4,
 "nbformat_minor": 5
}
